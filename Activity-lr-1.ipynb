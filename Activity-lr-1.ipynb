{
 "cells": [
  {
   "cell_type": "markdown",
   "metadata": {},
   "source": [
    "\n",
    "# Linear Regression Example\n",
    "\n",
    "This example uses the truck sales dataset to illustrate ordinary least-squares (OLS), or linear regression. The\n",
    "plot shows the line that linear regression learns, which best minimizes the residual sum of squares\n",
    "between the observed responses in the dataset, and the responses predicted by\n",
    "the linear approximation. We also compute the residual sum of squares and the variance score for the model.\n",
    "\n"
   ]
  },
  {
   "cell_type": "code",
   "execution_count": null,
   "metadata": {
    "collapsed": false
   },
   "outputs": [],
   "source": [
    "%matplotlib inline\n",
    "import matplotlib.pyplot as plt\n",
    "import numpy as np\n",
    "import pandas as pd\n",
    "from sklearn import linear_model\n",
    "\n",
    "# Get data\n",
    "df = pd.read_csv(\n",
    "    filepath_or_buffer='data/trucks.csv', \n",
    "    header=None)\n",
    "data = df.ix[:,:].values\n",
    "X = data[:,0].reshape(-1, 1)\n",
    "Y = data[:,1].reshape(-1, 1)\n",
    "\n",
    "# Train the model using the training sets\n",
    "regr = linear_model.LinearRegression()\n",
    "regr.fit(X, Y)\n",
    "slope = regr.coef_[0][0]\n",
    "intercept = regr.intercept_\n",
    "\n",
    "print(\"y = %f + %fx\" %(intercept, slope))\n",
    "print(\"Mean squared error: %f\"\n",
    "      % np.mean((regr.predict(X) - Y) ** 2))\n",
    "# Explained variance score: 1 is perfect prediction\n",
    "print('Variance score: %f' % regr.score(X, Y))\n",
    "\n",
    "# Plot outputs\n",
    "plt.scatter(X, Y,  color='black')\n",
    "plt.plot(X, regr.predict(X), color='red',\n",
    "          linewidth=1)\n",
    "plt.show()"
   ]
  },
  {
   "cell_type": "markdown",
   "metadata": {},
   "source": [
    "In the cell below, we load a subset of the Iris dataset from UCI, specifically all the samples for the \"Iris Setosa\" flower. The function `model` finds the OLS model for a pair of features in the data and computes the residual sum of squares and the variance score for that model. The parameters `v1` and `v2` are the names of the X and Y variables."
   ]
  },
  {
   "cell_type": "code",
   "execution_count": null,
   "metadata": {
    "collapsed": false
   },
   "outputs": [],
   "source": [
    "import numpy as np\n",
    "import pandas as pd\n",
    "from sklearn import linear_model\n",
    "\n",
    "df = pd.read_csv(\n",
    "    filepath_or_buffer='https://archive.ics.uci.edu/ml/machine-learning-databases/iris/iris.data', \n",
    "    header=None)\n",
    "data = df.ix[:,:].values\n",
    "data = data[data[:,4] == \"Iris-setosa\"][:,:4]\n",
    "\n",
    "def model(X, Y, v1=\"A\", v2=\"B\"):\n",
    "    X = X.reshape(-1, 1)\n",
    "    Y = Y.reshape(-1, 1)\n",
    "    regr = linear_model.LinearRegression()\n",
    "    regr.fit(X, Y)\n",
    "    slope = regr.coef_[0][0]\n",
    "    intercept = regr.intercept_[0]\n",
    "\n",
    "    print(\"%s = %f + %fx%s\" %(v2, intercept, slope, v1))\n",
    "    sse = np.sum((regr.predict(X) - Y) ** 2)\n",
    "    print(\"Sum of squared errors: %f\" % sse)\n",
    "    # Explained variance score: 1 is perfect prediction\n",
    "    print('Variance score: %f' % regr.score(X, Y))\n",
    "    return slope, intercept, sse, v1, v2\n"
   ]
  },
  {
   "cell_type": "markdown",
   "metadata": {
    "collapsed": false
   },
   "source": [
    "Exercise\n",
    "======\n",
    "\n",
    "The samples have 4 features. For each combination of features (each pair or features), consider one of the variables as predictor and the other as response and use the function `model` to find the OLS model that best fits the data. Report the model with the smallest SSE score."
   ]
  },
  {
   "cell_type": "code",
   "execution_count": null,
   "metadata": {
    "collapsed": false
   },
   "outputs": [],
   "source": []
  }
 ],
 "metadata": {
  "anaconda-cloud": {},
  "kernelspec": {
   "display_name": "Python [default]",
   "language": "python",
   "name": "python2"
  },
  "language_info": {
   "codemirror_mode": {
    "name": "ipython",
    "version": 2
   },
   "file_extension": ".py",
   "mimetype": "text/x-python",
   "name": "python",
   "nbconvert_exporter": "python",
   "pygments_lexer": "ipython2",
   "version": "2.7.12"
  }
 },
 "nbformat": 4,
 "nbformat_minor": 0
}
