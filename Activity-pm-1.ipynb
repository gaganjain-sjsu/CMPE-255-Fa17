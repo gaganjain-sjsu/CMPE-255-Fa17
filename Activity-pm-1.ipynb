{
 "cells": [
  {
   "cell_type": "markdown",
   "metadata": {},
   "source": [
    "# Association Analysis / Pattern Mining\n",
    "\n",
    "\n",
    "Association analysis is a data mining technique that discovers co-occurrence relationships among activities performed by (or recorded about) specific individuals or groups. In general, this can be applied to any process where agents can be uniquely identified and information about their activities can be recorded. \n",
    "\n",
    "In retail, association analysis is used to perform market basket analysis, in which retailers seek to understand the purchase behavior of customers. This information can then be used for purposes of cross-selling and up-selling, in addition to influencing sales promotions, loyalty programs, store design, and discount plans.\n",
    "\n",
    "In this activity we will write python functions to check the support and confidence on a sample grocery store transaction dataset. We also implement the Apriori alorithm to identify frequent individual items in the dataset. "
   ]
  },
  {
   "cell_type": "code",
   "execution_count": 1,
   "metadata": {
    "collapsed": true
   },
   "outputs": [],
   "source": [
    "import sys, getopt"
   ]
  },
  {
   "cell_type": "markdown",
   "metadata": {},
   "source": [
    "Reading Grocery store csv file that lists sample transactions."
   ]
  },
  {
   "cell_type": "code",
   "execution_count": 15,
   "metadata": {
    "scrolled": true
   },
   "outputs": [
    {
     "name": "stdout",
     "output_type": "stream",
     "text": [
      "Number of item sets : 20\n"
     ]
    },
    {
     "data": {
      "text/plain": [
       "[{'Bread', 'Eggs', 'Oranges', 'Yogurt'},\n",
       " {'Bananas', 'Beef', 'Bread', 'Chicken'},\n",
       " {'Bread', 'Milk', 'Spinach', 'Yogurt'},\n",
       " {'Bread', 'Eggs'},\n",
       " {'Bananas', 'Bread', 'Milk', 'Salad', 'Spinach'},\n",
       " {'Bread', 'Salad'},\n",
       " {'Bread', 'Milk', 'Salad'},\n",
       " {'Chicken', 'Milk', 'Oranges'},\n",
       " {'Beef', 'Yogurt'},\n",
       " {'Beef', 'Milk'},\n",
       " {'Bananas', 'Bread', 'Eggs'},\n",
       " {'Bread', 'Salad'},\n",
       " {'Oranges'},\n",
       " {'Eggs', 'Milk', 'Yogurt'},\n",
       " {'Chicken'},\n",
       " {'Bread'},\n",
       " {'Yogurt'},\n",
       " {'Bread', 'Milk', 'Spinach'},\n",
       " {'Chicken', 'Eggs'},\n",
       " {'Bananas', 'Beef', 'Bread', 'Eggs', 'Spinach'}]"
      ]
     },
     "execution_count": 15,
     "metadata": {},
     "output_type": "execute_result"
    }
   ],
   "source": [
    "def read_data(file_name):\n",
    "    result = list()\n",
    "    with open(file_name, 'r') as file_reader:\n",
    "        for line in file_reader:\n",
    "            order_set = set(line.strip().split(','))\n",
    "            result.append(order_set)\n",
    "    return result\n",
    "\n",
    "\n",
    "input_file = \"data/grocery_store.csv\"\n",
    "data = read_data(input_file)\n",
    "\n",
    "orders = data[1:]\n",
    "print \"Number of item sets : \" + str(len(orders))\n",
    "orders\n"
   ]
  },
  {
   "cell_type": "markdown",
   "metadata": {},
   "source": [
    "## Support Count \n",
    "\n",
    "It is the frequency of occurrence of an itemset."
   ]
  },
  {
   "cell_type": "code",
   "execution_count": 4,
   "metadata": {},
   "outputs": [],
   "source": [
    "def support_count(orders, item_set):\n",
    "    count = 0\n",
    "    for order in orders:\n",
    "        if item_set.issubset(order):\n",
    "            count += 1\n",
    "    return count"
   ]
  },
  {
   "cell_type": "markdown",
   "metadata": {},
   "source": [
    "### Exercise 1:\n",
    "Using the `support_count` function above, compute the support count of {Bread, Milk}.\n"
   ]
  },
  {
   "cell_type": "code",
   "execution_count": 6,
   "metadata": {},
   "outputs": [
    {
     "data": {
      "text/plain": [
       "4"
      ]
     },
     "execution_count": 6,
     "metadata": {},
     "output_type": "execute_result"
    }
   ],
   "source": [
    "support_count(orders, {'Bread', 'Milk'})"
   ]
  },
  {
   "cell_type": "markdown",
   "metadata": {},
   "source": [
    "## Support \n",
    "\n",
    "The support of an item or item set is the fraction of transactions in our data set that contain that item or item set. It is the percentage of transactions that contain all of the items in an itemset. The higher the support the more frequently the itemset occurs. Rules with a high support are preferred since they are likely to be applicable to a large number of future transactions."
   ]
  },
  {
   "cell_type": "code",
   "execution_count": 8,
   "metadata": {
    "collapsed": true
   },
   "outputs": [],
   "source": [
    "def support(orders, item_set):\n",
    "    N = len(orders)\n",
    "    return support_count(orders, item_set)/float(N)"
   ]
  },
  {
   "cell_type": "markdown",
   "metadata": {},
   "source": [
    "### Exercise 2:\n",
    "Using the `support` function above, compute the support of {Bread, Milk}."
   ]
  },
  {
   "cell_type": "code",
   "execution_count": 9,
   "metadata": {},
   "outputs": [
    {
     "data": {
      "text/plain": [
       "0.2"
      ]
     },
     "execution_count": 9,
     "metadata": {},
     "output_type": "execute_result"
    }
   ],
   "source": [
    "support(orders, {'Bread', 'Milk'})"
   ]
  },
  {
   "cell_type": "markdown",
   "metadata": {},
   "source": [
    "## Confidence \n",
    "\n",
    "Confidence is the probability that a transaction that contains the items on the left hand side of the rule also contains the item on the right hand side. The higher the confidence, the greater the likelihood that the item on the right hand side will be purchased or, in other words, the greater the return rate you can expect for a given rule."
   ]
  },
  {
   "cell_type": "code",
   "execution_count": 10,
   "metadata": {},
   "outputs": [],
   "source": [
    "def confidence(orders, left, right):\n",
    "    left_count = support_count(orders, left)\n",
    "    both = right.union(left)\n",
    "    both_count = support_count(orders, both)\n",
    "    return both_count/(float(left_count))"
   ]
  },
  {
   "cell_type": "markdown",
   "metadata": {},
   "source": [
    "### Exercise 3:\n",
    "Using the `confidence` function above, compute the confidence of {Bread, Milk} -> {Spinach}."
   ]
  },
  {
   "cell_type": "code",
   "execution_count": 11,
   "metadata": {},
   "outputs": [
    {
     "data": {
      "text/plain": [
       "0.75"
      ]
     },
     "execution_count": 11,
     "metadata": {},
     "output_type": "execute_result"
    }
   ],
   "source": [
    "confidence(orders, {'Bread','Milk'}, {'Spinach'})"
   ]
  },
  {
   "cell_type": "markdown",
   "metadata": {},
   "source": [
    "## Apriori \n",
    "\n",
    "Apriori is an algorithm for frequent item set mining and association rule learning over transactional databases. It proceeds by identifying the frequent individual items in the database and extending them to larger and larger item sets as long as those item sets appear sufficiently often in the database. The frequent item sets determined by Apriori can be used to determine association rules which highlight general trends in the database: this has applications in domains such as <a href=\"https://en.wikipedia.org/wiki/Affinity_analysis\"> market basket analysis</a>."
   ]
  },
  {
   "cell_type": "code",
   "execution_count": 12,
   "metadata": {
    "collapsed": true
   },
   "outputs": [],
   "source": [
    "def apriori(orders, minsup, minconf):\n",
    "    \"\"\"Accepts a list of item sets (i.e. orders) and returns a list of\n",
    "    association rules matching support and confidence thresholds. \"\"\"\n",
    "    candidate_items = set()\n",
    "\n",
    "    for items in orders:\n",
    "        candidate_items = candidate_items.union(items)\n",
    "\n",
    "    print(\"Candidate items are {}\".format(candidate_items))\n",
    "\n",
    "    def apriori_next(item_set=set()):\n",
    "        \"\"\"Accepts a single item set and returns list of all association rules\n",
    "        containing item_set that match support and confidence thresholds.\n",
    "        \"\"\"\n",
    "        result = []\n",
    "\n",
    "        if len(item_set) == len(candidate_items):\n",
    "            # Recursion base case.\n",
    "            return result\n",
    "\n",
    "        elif not item_set:\n",
    "            # Initialize with every item meeting support threshold.\n",
    "            for item in candidate_items:\n",
    "                item_set = {item}\n",
    "                if support(orders, item_set) >= minsup:\n",
    "                    result.extend(apriori_next(item_set))\n",
    "                else:\n",
    "                    pass\n",
    "\n",
    "        else:\n",
    "            # Given an item set, find all candidate items meeting thresholds\n",
    "            for item in candidate_items.difference(item_set):\n",
    "                if confidence(orders, item_set, {item}) >= minconf:\n",
    "                    if support(orders, item_set.union({item})) >= minsup:\n",
    "                        result.append((item_set, item))\n",
    "                        result.extend(apriori_next(item_set.union({item})))\n",
    "                    else:\n",
    "                        pass\n",
    "                else:\n",
    "                    pass\n",
    "\n",
    "        return [rule for rule in result if rule]\n",
    "\n",
    "    return apriori_next()"
   ]
  },
  {
   "cell_type": "markdown",
   "metadata": {
    "collapsed": true
   },
   "source": [
    "### Exercise 3:\n",
    "Using above `apriori` function above, find all rules with `minsup` 0.2 and `minconf` 0.75. "
   ]
  },
  {
   "cell_type": "code",
   "execution_count": 13,
   "metadata": {},
   "outputs": [
    {
     "name": "stdout",
     "output_type": "stream",
     "text": [
      "Candidate items are set(['Bananas', 'Beef', 'Spinach', 'Eggs', 'Salad', 'Oranges', 'Yogurt', 'Chicken', 'Milk', 'Bread'])\n"
     ]
    },
    {
     "data": {
      "text/plain": [
       "[({'Bananas'}, 'Bread'), ({'Spinach'}, 'Bread'), ({'Salad'}, 'Bread')]"
      ]
     },
     "execution_count": 13,
     "metadata": {},
     "output_type": "execute_result"
    }
   ],
   "source": [
    "apriori(orders, 0.2, 0.75)"
   ]
  },
  {
   "cell_type": "code",
   "execution_count": null,
   "metadata": {
    "collapsed": true
   },
   "outputs": [],
   "source": []
  }
 ],
 "metadata": {
  "anaconda-cloud": {},
  "kernelspec": {
   "display_name": "Python 2",
   "language": "python",
   "name": "python2"
  },
  "language_info": {
   "codemirror_mode": {
    "name": "ipython",
    "version": 2
   },
   "file_extension": ".py",
   "mimetype": "text/x-python",
   "name": "python",
   "nbconvert_exporter": "python",
   "pygments_lexer": "ipython2",
   "version": "2.7.13"
  }
 },
 "nbformat": 4,
 "nbformat_minor": 2
}
