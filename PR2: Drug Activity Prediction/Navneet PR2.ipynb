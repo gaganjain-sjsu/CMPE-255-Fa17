{
 "cells": [
  {
   "cell_type": "code",
   "execution_count": 1,
   "metadata": {
    "collapsed": true
   },
   "outputs": [],
   "source": [
    "from sklearn.ensemble import RandomForestClassifier\n",
    "import numpy as np\n",
    "from sklearn.feature_extraction.text import TfidfVectorizer"
   ]
  },
  {
   "cell_type": "code",
   "execution_count": 2,
   "metadata": {
    "collapsed": true
   },
   "outputs": [],
   "source": [
    "def select_feature(data):\n",
    "    feature=set()\n",
    "    for rows in data:\n",
    "        for f in rows:\n",
    "            feature.add(f)\n",
    "    return feature\n",
    "\n",
    "\n",
    "def countValues(output):\n",
    "    one=0\n",
    "    zero=0\n",
    "    for i in output:\n",
    "        if i=='1':\n",
    "            one+=1\n",
    "        else:\n",
    "            zero+=1\n",
    "    print one\n",
    "    print zero\n",
    "def outputToFile(output):\n",
    "    with open('data/result_final.dat', 'w') as log:\n",
    "        for x in output:\n",
    "            log.write(x+'\\n')"
   ]
  },
  {
   "cell_type": "code",
   "execution_count": 8,
   "metadata": {},
   "outputs": [
    {
     "name": "stderr",
     "output_type": "stream",
     "text": [
      "IOPub data rate exceeded.\n",
      "The notebook server will temporarily stop sending output\n",
      "to the client in order to avoid crashing it.\n",
      "To change this limit, set the config variable\n",
      "`--NotebookApp.iopub_data_rate_limit`.\n"
     ]
    }
   ],
   "source": [
    "training_data=[]\n",
    "for line in open('data/train.dat','r'):\n",
    "    print(line)\n",
    "    #training_data.append(line.split('\\t'))\n",
    "\n",
    "testing_data=[]\n",
    "for line in open('data/test.dat','r'):\n",
    "    testing_data.append(line.split('\\t'))\n",
    "\n",
    "#print(training_data[:100])"
   ]
  },
  {
   "cell_type": "code",
   "execution_count": 9,
   "metadata": {},
   "outputs": [],
   "source": [
    "train_list = []\n",
    "training_list = []\n",
    "given_class = []\n",
    "for td in training_data:\n",
    "    given_class.append(td[0])\n",
    "    training_list.append(td[1].split(' '))\n",
    "    train_list.append(td[1])\n",
    "\n",
    "test_list = []\n",
    "testing_list = []\n",
    "for td in testing_data:\n",
    "    test_list.append(td[0])\n",
    "    testing_list.append(td[0].split(' '))\n",
    "\n",
    "#print(train_list[:100])"
   ]
  },
  {
   "cell_type": "code",
   "execution_count": 16,
   "metadata": {
    "collapsed": true
   },
   "outputs": [],
   "source": [
    "train_features=select_feature(training_list)\n",
    "test_features=select_feature(testing_list)"
   ]
  },
  {
   "cell_type": "code",
   "execution_count": 17,
   "metadata": {
    "collapsed": true
   },
   "outputs": [],
   "source": [
    "features=train_features.intersection(test_features)"
   ]
  },
  {
   "cell_type": "code",
   "execution_count": 18,
   "metadata": {
    "collapsed": true
   },
   "outputs": [],
   "source": [
    "tf = TfidfVectorizer(norm='l2', vocabulary=list(features))"
   ]
  },
  {
   "cell_type": "code",
   "execution_count": 19,
   "metadata": {},
   "outputs": [
    {
     "name": "stdout",
     "output_type": "stream",
     "text": [
      "68635\n",
      "68635\n"
     ]
    }
   ],
   "source": [
    "training_M =  tf.fit_transform(train_list)\n",
    "training_feature_names = tf.get_feature_names()\n",
    "print len(training_feature_names)\n",
    "\n",
    "testing_M =  tf.fit_transform(test_list)\n",
    "testing_feature_names = tf.get_feature_names()\n",
    "print len(testing_feature_names)"
   ]
  },
  {
   "cell_type": "code",
   "execution_count": 20,
   "metadata": {},
   "outputs": [
    {
     "name": "stdout",
     "output_type": "stream",
     "text": [
      " [nrows 800, ncols 68635, nnz 683591]\n",
      " [nrows 350, ncols 68635, nnz 313277]\n"
     ]
    }
   ],
   "source": [
    "csr_info(training_M)\n",
    "csr_info(testing_M)"
   ]
  },
  {
   "cell_type": "code",
   "execution_count": 21,
   "metadata": {
    "collapsed": true
   },
   "outputs": [],
   "source": [
    "clf = RandomForestClassifier( n_estimators=3, random_state=0, class_weight='balanced', n_jobs=1,min_samples_split=2)\n",
    "clf = clf.fit(training_M, given_class)\n",
    "result = clf.predict(testing_M)"
   ]
  },
  {
   "cell_type": "code",
   "execution_count": 22,
   "metadata": {
    "collapsed": true
   },
   "outputs": [],
   "source": [
    "outputToFile(result)"
   ]
  },
  {
   "cell_type": "code",
   "execution_count": null,
   "metadata": {
    "collapsed": true
   },
   "outputs": [],
   "source": []
  }
 ],
 "metadata": {
  "kernelspec": {
   "display_name": "Python 2",
   "language": "python",
   "name": "python2"
  },
  "language_info": {
   "codemirror_mode": {
    "name": "ipython",
    "version": 2
   },
   "file_extension": ".py",
   "mimetype": "text/x-python",
   "name": "python",
   "nbconvert_exporter": "python",
   "pygments_lexer": "ipython2",
   "version": "2.7.13"
  }
 },
 "nbformat": 4,
 "nbformat_minor": 2
}
