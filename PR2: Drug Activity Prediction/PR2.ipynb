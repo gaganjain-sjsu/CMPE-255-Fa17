{
 "cells": [
  {
   "cell_type": "code",
   "execution_count": 200,
   "metadata": {
    "collapsed": true
   },
   "outputs": [],
   "source": [
    "import pandas as pd\n",
    "import numpy as num\n",
    "from sklearn.model_selection import train_test_split"
   ]
  },
  {
   "cell_type": "code",
   "execution_count": 265,
   "metadata": {},
   "outputs": [
    {
     "name": "stdout",
     "output_type": "stream",
     "text": [
      "350\n"
     ]
    }
   ],
   "source": [
    "df_train = pd.read_csv(\n",
    "    filepath_or_buffer='data/train.dat', \n",
    "    header=None, \n",
    "    sep='\\n')\n",
    "    \n",
    "tr0 = []\n",
    "tr0_cls = []\n",
    "tr0_dat = []\n",
    "\n",
    "for i in range(df_train.size):\n",
    "    tr0.append(df_train[0][i].split('\\t'))\n",
    "    tr0_cls.append(tr0[i][0])\n",
    "    tr0_dat.append(tr0[i][1].split())\n",
    "    \n",
    "\n",
    "df_test = pd.read_csv(\n",
    "    filepath_or_buffer='data/test.dat', \n",
    "    header=None, \n",
    "    sep='\\n')\n",
    "    \n",
    "test0 = []\n",
    "test0_cls = []\n",
    "test0_dat = []\n",
    "\n",
    "print(df_test.size)\n",
    "\n",
    "for i in range(df_test.size):\n",
    "    test0_dat.append(df_test[0][i].split())\n",
    "    \n",
    "#test0_dat[0]"
   ]
  },
  {
   "cell_type": "code",
   "execution_count": 288,
   "metadata": {},
   "outputs": [
    {
     "name": "stdout",
     "output_type": "stream",
     "text": [
      "(800, 100001)\n",
      "(800,)\n",
      "(350, 100001)\n"
     ]
    }
   ],
   "source": [
    "tr1_dat = num.zeros((800,100001), dtype=num.int)\n",
    "for i in range(df_train.size):\n",
    "    for index in tr0_dat[i]:\n",
    "        j = int(index)\n",
    "        tr1_dat[i][j] = 1\n",
    "\n",
    "X_train = pd.DataFrame(tr1_dat)\n",
    "y_train = pd.Series(tr0_cls)\n",
    "\n",
    "#print(X_train)\n",
    "#print(y_train)\n",
    "\n",
    "test1_dat = num.zeros((350,100001), dtype=num.int)\n",
    "for i in range(df_test.size):\n",
    "    for index in test0_dat[i]:\n",
    "        j = int(index)\n",
    "        test1_dat[i][j] = 1\n",
    "\n",
    "X_test = pd.DataFrame(test1_dat)\n",
    "#y = pd.Series(tr0_cls)\n",
    "\n",
    "#print(X_test)\n",
    "\n",
    "print(X_train.shape)\n",
    "print(y_train.shape)\n",
    "print(X_test.shape)\n"
   ]
  },
  {
   "cell_type": "code",
   "execution_count": 313,
   "metadata": {},
   "outputs": [
    {
     "name": "stdout",
     "output_type": "stream",
     "text": [
      "['0' '0' '1' '0' '0' '0' '0' '1' '0' '0' '0' '1' '0' '0' '0' '0' '0' '0'\n",
      " '0' '0' '0' '0' '0' '0' '1' '0' '0' '0' '0' '0' '0' '0' '0' '0' '0' '0'\n",
      " '0' '0' '0' '0' '0' '0' '0' '0' '0' '0' '0' '1' '0' '0' '1' '1' '0' '0'\n",
      " '0' '0' '0' '0' '0' '0' '0' '0' '1' '0' '0' '0' '0' '0' '0' '0' '0' '0'\n",
      " '0' '1' '1' '0' '0' '0' '0' '0' '0' '0' '0' '0' '1' '0' '0' '0' '1' '0'\n",
      " '0' '0' '0' '0' '0' '0' '0' '0' '1' '0' '0' '0' '0' '0' '0' '0' '0' '0'\n",
      " '0' '0' '0' '0' '0' '0' '0' '0' '1' '0' '0' '0' '0' '0' '0' '0' '0' '0'\n",
      " '0' '0' '0' '0' '0' '0' '0' '0' '1' '1' '0' '0' '0' '0' '1' '0' '0' '0'\n",
      " '0' '0' '0' '0' '0' '0' '0' '0' '0' '0' '0' '0' '0' '0' '0' '0' '1' '0'\n",
      " '0' '1' '0' '0' '1' '0' '0' '0' '0' '1' '0' '0' '0' '0' '0' '0' '0' '1'\n",
      " '0' '0' '0' '0' '0' '0' '0' '0' '0' '1' '1' '0' '0' '1' '0' '0' '0' '0'\n",
      " '0' '0' '0' '0' '0' '0' '0' '0' '1' '0' '0' '0' '0' '0' '0' '0' '1' '0'\n",
      " '0' '0' '0' '0' '0' '0' '0' '0' '0' '0' '0' '0' '0' '0' '0' '0' '0' '0'\n",
      " '0' '0' '0' '0' '0' '0' '0' '0' '0' '0' '0' '0' '0' '0' '0' '0' '0' '0'\n",
      " '0' '0' '1' '0' '0' '0' '0' '0' '0' '0' '0' '0' '0' '0' '0' '0' '0' '0'\n",
      " '1' '0' '0' '0' '0' '0' '0' '0' '0' '0' '0' '0' '0' '0' '0' '0' '0' '0'\n",
      " '0' '0' '0' '0' '0' '0' '0' '0' '0' '0' '0' '0' '0' '0' '0' '0' '0' '0'\n",
      " '0' '0' '1' '0' '0' '0' '0' '1' '0' '1' '1' '0' '0' '0' '0' '0' '0' '0'\n",
      " '0' '0' '0' '0' '0' '0' '0' '0' '0' '1' '0' '0' '1' '0' '0' '0' '0' '0'\n",
      " '1' '0' '0' '0' '0' '0' '0' '0']\n"
     ]
    }
   ],
   "source": [
    "\"\"\"\n",
    "from sklearn.decomposition import PCA\n",
    "from sklearn.neighbors import KNeighborsClassifier\n",
    "\n",
    "\n",
    "DR: PCA\n",
    "Classifier: KNeighborsClassifier\n",
    "\n",
    "pca = PCA(n_components=350)\n",
    "pca.fit(X_train)\n",
    "\n",
    "X_train_pca = pca.transform(X_train)\n",
    "X_test_pca = pca.transform(X_test)\n",
    "\n",
    "clf = KNeighborsClassifier(n_neighbors=10, algorithm='ball_tree')\n",
    "clf.fit(X_train, y_train)\n",
    "y = clf.predict(X_test)\n",
    "\"\"\"\n",
    "\n",
    "\n",
    "\n",
    "from sklearn.ensemble import RandomForestClassifier\n",
    "from sklearn.decomposition import PCA\n",
    "\n",
    "#DR: PCA\n",
    "#Classifier: RandomForest\n",
    "\n",
    "pca = PCA(n_components=150)\n",
    "pca.fit(X_train)\n",
    "\n",
    "X_train_pca = pca.transform(X_train)\n",
    "X_test_pca = pca.transform(X_test)\n",
    "\n",
    "clf = RandomForestClassifier(n_estimators=5, class_weight='balanced', n_jobs=1, random_state=0)\n",
    "\n",
    "clf = clf.fit(X_train_pca, y_train)\n",
    "y = clf.predict(X_test_pca)\n",
    "\n",
    "#y2 = clf.predict(X_test_pca)\n",
    "\n",
    "\n",
    "\"\"\"\n",
    "from sklearn.decomposition import TruncatedSVD\n",
    "from sklearn.svm import LinearSVC\n",
    "\n",
    "DR: TruncatedSVD\n",
    "Classifier: LinearSVC\n",
    "\n",
    "svd = TruncatedSVD(n_components=350)\n",
    "svd.fit(X_train)\n",
    "\n",
    "X_train_svd = svd.transform(X_train)\n",
    "X_test_svd = svd.transform(X_test)\n",
    "\n",
    "clf = LinearSVC(random_state=0)\n",
    "clf = clf.fit(X_train_svd, y_train)\n",
    "y = clf.predict(X_test_svd)\n",
    "\n",
    "\"\"\"\n",
    "\n",
    "print(y)"
   ]
  },
  {
   "cell_type": "code",
   "execution_count": 306,
   "metadata": {},
   "outputs": [
    {
     "ename": "ValueError",
     "evalue": "Found input variables with inconsistent numbers of samples: [800, 350]",
     "output_type": "error",
     "traceback": [
      "\u001b[0;31m---------------------------------------------------------------------------\u001b[0m",
      "\u001b[0;31mValueError\u001b[0m                                Traceback (most recent call last)",
      "\u001b[0;32m<ipython-input-306-152186b85727>\u001b[0m in \u001b[0;36m<module>\u001b[0;34m()\u001b[0m\n\u001b[1;32m      1\u001b[0m X_train, X_test, y_train, y_test = train_test_split(\n\u001b[0;32m----> 2\u001b[0;31m     X, y, test_size=0.2, random_state=42)\n\u001b[0m\u001b[1;32m      3\u001b[0m \u001b[0;34m\u001b[0m\u001b[0m\n\u001b[1;32m      4\u001b[0m \u001b[0;32mprint\u001b[0m\u001b[0;34m(\u001b[0m\u001b[0mX_train\u001b[0m\u001b[0;34m.\u001b[0m\u001b[0mshape\u001b[0m\u001b[0;34m)\u001b[0m\u001b[0;34m\u001b[0m\u001b[0m\n\u001b[1;32m      5\u001b[0m \u001b[0;32mprint\u001b[0m\u001b[0;34m(\u001b[0m\u001b[0mX_test\u001b[0m\u001b[0;34m.\u001b[0m\u001b[0mshape\u001b[0m\u001b[0;34m)\u001b[0m\u001b[0;34m\u001b[0m\u001b[0m\n",
      "\u001b[0;32m/Users/gaganjain/anaconda/lib/python2.7/site-packages/sklearn/model_selection/_split.pyc\u001b[0m in \u001b[0;36mtrain_test_split\u001b[0;34m(*arrays, **options)\u001b[0m\n\u001b[1;32m   1687\u001b[0m         \u001b[0mtest_size\u001b[0m \u001b[0;34m=\u001b[0m \u001b[0;36m0.25\u001b[0m\u001b[0;34m\u001b[0m\u001b[0m\n\u001b[1;32m   1688\u001b[0m \u001b[0;34m\u001b[0m\u001b[0m\n\u001b[0;32m-> 1689\u001b[0;31m     \u001b[0marrays\u001b[0m \u001b[0;34m=\u001b[0m \u001b[0mindexable\u001b[0m\u001b[0;34m(\u001b[0m\u001b[0;34m*\u001b[0m\u001b[0marrays\u001b[0m\u001b[0;34m)\u001b[0m\u001b[0;34m\u001b[0m\u001b[0m\n\u001b[0m\u001b[1;32m   1690\u001b[0m \u001b[0;34m\u001b[0m\u001b[0m\n\u001b[1;32m   1691\u001b[0m     \u001b[0;32mif\u001b[0m \u001b[0mstratify\u001b[0m \u001b[0;32mis\u001b[0m \u001b[0;32mnot\u001b[0m \u001b[0mNone\u001b[0m\u001b[0;34m:\u001b[0m\u001b[0;34m\u001b[0m\u001b[0m\n",
      "\u001b[0;32m/Users/gaganjain/anaconda/lib/python2.7/site-packages/sklearn/utils/validation.pyc\u001b[0m in \u001b[0;36mindexable\u001b[0;34m(*iterables)\u001b[0m\n\u001b[1;32m    204\u001b[0m         \u001b[0;32melse\u001b[0m\u001b[0;34m:\u001b[0m\u001b[0;34m\u001b[0m\u001b[0m\n\u001b[1;32m    205\u001b[0m             \u001b[0mresult\u001b[0m\u001b[0;34m.\u001b[0m\u001b[0mappend\u001b[0m\u001b[0;34m(\u001b[0m\u001b[0mnp\u001b[0m\u001b[0;34m.\u001b[0m\u001b[0marray\u001b[0m\u001b[0;34m(\u001b[0m\u001b[0mX\u001b[0m\u001b[0;34m)\u001b[0m\u001b[0;34m)\u001b[0m\u001b[0;34m\u001b[0m\u001b[0m\n\u001b[0;32m--> 206\u001b[0;31m     \u001b[0mcheck_consistent_length\u001b[0m\u001b[0;34m(\u001b[0m\u001b[0;34m*\u001b[0m\u001b[0mresult\u001b[0m\u001b[0;34m)\u001b[0m\u001b[0;34m\u001b[0m\u001b[0m\n\u001b[0m\u001b[1;32m    207\u001b[0m     \u001b[0;32mreturn\u001b[0m \u001b[0mresult\u001b[0m\u001b[0;34m\u001b[0m\u001b[0m\n\u001b[1;32m    208\u001b[0m \u001b[0;34m\u001b[0m\u001b[0m\n",
      "\u001b[0;32m/Users/gaganjain/anaconda/lib/python2.7/site-packages/sklearn/utils/validation.pyc\u001b[0m in \u001b[0;36mcheck_consistent_length\u001b[0;34m(*arrays)\u001b[0m\n\u001b[1;32m    179\u001b[0m     \u001b[0;32mif\u001b[0m \u001b[0mlen\u001b[0m\u001b[0;34m(\u001b[0m\u001b[0muniques\u001b[0m\u001b[0;34m)\u001b[0m \u001b[0;34m>\u001b[0m \u001b[0;36m1\u001b[0m\u001b[0;34m:\u001b[0m\u001b[0;34m\u001b[0m\u001b[0m\n\u001b[1;32m    180\u001b[0m         raise ValueError(\"Found input variables with inconsistent numbers of\"\n\u001b[0;32m--> 181\u001b[0;31m                          \" samples: %r\" % [int(l) for l in lengths])\n\u001b[0m\u001b[1;32m    182\u001b[0m \u001b[0;34m\u001b[0m\u001b[0m\n\u001b[1;32m    183\u001b[0m \u001b[0;34m\u001b[0m\u001b[0m\n",
      "\u001b[0;31mValueError\u001b[0m: Found input variables with inconsistent numbers of samples: [800, 350]"
     ]
    }
   ],
   "source": [
    "X_train, X_test, y_train, y_test = train_test_split(\n",
    "    X, y, test_size=0.2, random_state=42)\n",
    "\n",
    "print(X_train.shape)\n",
    "print(X_test.shape)\n",
    "#print \"Train data shape : \" + str(X_train.shape)\n",
    "#print \"Test data shape : \" + str(X_test.shape)"
   ]
  },
  {
   "cell_type": "code",
   "execution_count": 228,
   "metadata": {},
   "outputs": [
    {
     "name": "stdout",
     "output_type": "stream",
     "text": [
      "Error rate without dimensionality reduction: 16/160 * 100 = 10.000000\n",
      "Time taken to train a KNN Classifier without DR: 15 seconds\n"
     ]
    }
   ],
   "source": [
    "from sklearn.neighbors import KNeighborsClassifier\n",
    "import time\n",
    "\n",
    "start = time.time()\n",
    "clf = KNeighborsClassifier(n_neighbors=3, algorithm='ball_tree')\n",
    "clf.fit(X_train, y_train)\n",
    "y = clf.predict(X_test)\n",
    "\n",
    "# Calculate error in prediction\n",
    "errors = (y_test != y).sum()\n",
    "total = X_test.shape[0]\n",
    "error_rate_without_dr = (errors/float(total)) * 100\n",
    "print \"Error rate without dimensionality reduction: %d/%d * 100 = %f\" % (errors, total, error_rate_without_dr)\n",
    "\n",
    "end = time.time()\n",
    "duration_without_dr = end-start\n",
    "print \"Time taken to train a KNN Classifier without DR: %d seconds\" %duration_without_dr"
   ]
  },
  {
   "cell_type": "code",
   "execution_count": 229,
   "metadata": {},
   "outputs": [
    {
     "name": "stdout",
     "output_type": "stream",
     "text": [
      "(640, 150)\n",
      "(160, 150)\n",
      "PCA transformation time: 10 seconds\n"
     ]
    }
   ],
   "source": [
    "from sklearn.decomposition import PCA\n",
    "start = time.time()\n",
    "pca = PCA(n_components=150)\n",
    "pca.fit(X_train)\n",
    "\n",
    "X_train_pca = pca.transform(X_train)\n",
    "X_test_pca = pca.transform(X_test)\n",
    "\n",
    "print(X_train_pca.shape)\n",
    "print(X_test_pca.shape)\n",
    "print \"PCA transformation time: %d seconds\" % (time.time()-start)"
   ]
  },
  {
   "cell_type": "code",
   "execution_count": 230,
   "metadata": {},
   "outputs": [
    {
     "name": "stdout",
     "output_type": "stream",
     "text": [
      "Error rate with PCA: 16/160 * 100 = 10.000000\n",
      "Time taken to train a KNN Classifier with PCA: 0 seconds\n"
     ]
    }
   ],
   "source": [
    "start = time.time()\n",
    "clf.fit(X_train_pca, y_train)\n",
    "y = clf.predict(X_test_pca)\n",
    "\n",
    "errors = (y_test != y).sum()\n",
    "total = X_test_pca.shape[0]\n",
    "error_rate_with_pca = (errors/float(total)) * 100\n",
    "print \"Error rate with PCA: %d/%d * 100 = %f\" % (errors, total, error_rate_with_pca)\n",
    "\n",
    "end = time.time()\n",
    "duration_with_pca = end-start\n",
    "print \"Time taken to train a KNN Classifier with PCA: %d seconds\" %duration_with_pca"
   ]
  },
  {
   "cell_type": "code",
   "execution_count": 247,
   "metadata": {},
   "outputs": [
    {
     "name": "stdout",
     "output_type": "stream",
     "text": [
      "Error rate without dimensionality reduction: 9/160 * 100 = 5.625000\n",
      "Time taken to train a RandomForest Classifier without DR: 0 seconds\n"
     ]
    }
   ],
   "source": [
    "from sklearn.neighbors import KNeighborsClassifier\n",
    "from sklearn.ensemble import RandomForestClassifier\n",
    "import time\n",
    "\n",
    "start = time.time()\n",
    "\n",
    "#clf = RandomForestClassifier( n_estimators=3, random_state=0, class_weight='balanced', n_jobs=1,min_samples_split=2)\n",
    "clf = RandomForestClassifier(n_estimators=5, n_jobs=1, random_state=0)\n",
    "#clf = RandomForestClassifier()\n",
    "clf = clf.fit(X_train_pca, y_train)\n",
    "y = clf.predict(X_test_pca)\n",
    "\n",
    "\n",
    "# Calculate error in prediction\n",
    "errors = (y_test != y).sum()\n",
    "total = X_test.shape[0]\n",
    "error_rate_without_dr = (errors/float(total)) * 100\n",
    "print \"Error rate without dimensionality reduction: %d/%d * 100 = %f\" % (errors, total, error_rate_without_dr)\n",
    "\n",
    "end = time.time()\n",
    "duration_without_dr = end-start\n",
    "print \"Time taken to train a RandomForest Classifier without DR: %d seconds\" %duration_without_dr"
   ]
  },
  {
   "cell_type": "code",
   "execution_count": 248,
   "metadata": {},
   "outputs": [
    {
     "name": "stdout",
     "output_type": "stream",
     "text": [
      "Error rate with PCA: 9/160 * 100 = 5.625000\n",
      "Time taken to train a Random Forest Classifier with PCA: 0 seconds\n"
     ]
    }
   ],
   "source": [
    "start = time.time()\n",
    "clf.fit(X_train_pca, y_train)\n",
    "y = clf.predict(X_test_pca)\n",
    "\n",
    "errors = (y_test != y).sum()\n",
    "total = X_test_pca.shape[0]\n",
    "error_rate_with_pca = (errors/float(total)) * 100\n",
    "print \"Error rate with PCA: %d/%d * 100 = %f\" % (errors, total, error_rate_with_pca)\n",
    "\n",
    "end = time.time()\n",
    "duration_with_pca = end-start\n",
    "print \"Time taken to train a Random Forest Classifier with PCA: %d seconds\" %duration_with_pca"
   ]
  },
  {
   "cell_type": "code",
   "execution_count": 315,
   "metadata": {},
   "outputs": [
    {
     "name": "stdout",
     "output_type": "stream",
     "text": [
      "['0' '0' '1' '0' '0' '0' '0' '1' '0' '0' '0' '1' '0' '0' '0' '0' '0' '0'\n",
      " '0' '0' '0' '0' '0' '0' '1' '0' '0' '0' '0' '0' '0' '0' '0' '0' '0' '0'\n",
      " '0' '0' '0' '0' '0' '0' '0' '0' '0' '0' '0' '1' '0' '0' '1' '1' '0' '0'\n",
      " '0' '0' '0' '0' '0' '0' '0' '0' '1' '0' '0' '0' '0' '0' '0' '0' '0' '0'\n",
      " '0' '1' '1' '0' '0' '0' '0' '0' '0' '0' '0' '0' '1' '0' '0' '0' '1' '0'\n",
      " '0' '0' '0' '0' '0' '0' '0' '0' '1' '0' '0' '0' '0' '0' '0' '0' '0' '0'\n",
      " '0' '0' '0' '0' '0' '0' '0' '0' '1' '0' '0' '0' '0' '0' '0' '0' '0' '0'\n",
      " '0' '0' '0' '0' '0' '0' '0' '0' '1' '1' '0' '0' '0' '0' '1' '0' '0' '0'\n",
      " '0' '0' '0' '0' '0' '0' '0' '0' '0' '0' '0' '0' '0' '0' '0' '0' '1' '0'\n",
      " '0' '1' '0' '0' '1' '0' '0' '0' '0' '1' '0' '0' '0' '0' '0' '0' '0' '1'\n",
      " '0' '0' '0' '0' '0' '0' '0' '0' '0' '1' '1' '0' '0' '1' '0' '0' '0' '0'\n",
      " '0' '0' '0' '0' '0' '0' '0' '0' '1' '0' '0' '0' '0' '0' '0' '0' '1' '0'\n",
      " '0' '0' '0' '0' '0' '0' '0' '0' '0' '0' '0' '0' '0' '0' '0' '0' '0' '0'\n",
      " '0' '0' '0' '0' '0' '0' '0' '0' '0' '0' '0' '0' '0' '0' '0' '0' '0' '0'\n",
      " '0' '0' '1' '0' '0' '0' '0' '0' '0' '0' '0' '0' '0' '0' '0' '0' '0' '0'\n",
      " '1' '0' '0' '0' '0' '0' '0' '0' '0' '0' '0' '0' '0' '0' '0' '0' '0' '0'\n",
      " '0' '0' '0' '0' '0' '0' '0' '0' '0' '0' '0' '0' '0' '0' '0' '0' '0' '0'\n",
      " '0' '0' '1' '0' '0' '0' '0' '1' '0' '1' '1' '0' '0' '0' '0' '0' '0' '0'\n",
      " '0' '0' '0' '0' '0' '0' '0' '0' '0' '1' '0' '0' '1' '0' '0' '0' '0' '0'\n",
      " '1' '0' '0' '0' '0' '0' '0' '0']\n"
     ]
    }
   ],
   "source": [
    "def outputToFile(output):\n",
    "    with open('data/result_final_with_PCA_RF.dat', 'w') as log:\n",
    "        for x in output:\n",
    "            log.write(x+'\\n')\n",
    "print(y)\n",
    "\n",
    "outputToFile(y)"
   ]
  },
  {
   "cell_type": "code",
   "execution_count": null,
   "metadata": {
    "collapsed": true
   },
   "outputs": [],
   "source": []
  }
 ],
 "metadata": {
  "kernelspec": {
   "display_name": "Python 2",
   "language": "python",
   "name": "python2"
  },
  "language_info": {
   "codemirror_mode": {
    "name": "ipython",
    "version": 2
   },
   "file_extension": ".py",
   "mimetype": "text/x-python",
   "name": "python",
   "nbconvert_exporter": "python",
   "pygments_lexer": "ipython2",
   "version": "2.7.13"
  }
 },
 "nbformat": 4,
 "nbformat_minor": 2
}
