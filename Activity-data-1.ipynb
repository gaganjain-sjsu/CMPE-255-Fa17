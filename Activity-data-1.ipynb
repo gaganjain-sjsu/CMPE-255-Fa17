{
 "cells": [
  {
   "cell_type": "markdown",
   "metadata": {},
   "source": [
    "### Check out some data ###\n",
    "\n",
    "In this activity we will check out ipython install and the availability of some important modules. Furthermore, we'll visualize a dataset, learning a bit about the power of Pandas.\n",
    "\n",
    "<sub>Note: Activity adapted from [nbviewer](http://nbviewer.jupyter.org/github/jvns/pandas-cookbook/blob/v0.1/cookbook/Chapter%205%20-%20Combining%20dataframes%20and%20scraping%20Canadian%20weather%20data.ipynb). Montréal cycling data from [Données Ouvertes Montréal](http://donnees.ville.montreal.qc.ca/dataset/velos-comptage)</sub>"
   ]
  },
  {
   "cell_type": "markdown",
   "metadata": {},
   "source": [
    "First, let's make sure you have the right modules installed to run activities for this class."
   ]
  },
  {
   "cell_type": "code",
   "execution_count": 2,
   "metadata": {},
   "outputs": [],
   "source": [
    "import pandas as pd\n",
    "import numpy as np\n",
    "import scipy as sp\n",
    "# Open graphs in new cells in the page rather than in a separate window\n",
    "%matplotlib inline \n",
    "import matplotlib.pyplot as plt \n",
    "plt.rcParams[\"figure.figsize\"] = (15, 5)  # set a default figure size"
   ]
  },
  {
   "cell_type": "markdown",
   "metadata": {},
   "source": [
    "You can read data from a CSV file using the `read_csv` function. By default, it assumes that the fields are comma-separated.\n",
    "\n",
    "We're going to be looking some cyclist data from Montréal. Here's the [original page](http://donnees.ville.montreal.qc.ca/dataset/velos-comptage) (in French), but it's already included in this repository. We're using the data from 2012.\n",
    "\n",
    "This dataset is a list of how many people were on 7 different bike paths in Montreal, each day."
   ]
  },
  {
   "cell_type": "code",
   "execution_count": 3,
   "metadata": {},
   "outputs": [],
   "source": [
    "broken_df = pd.read_csv('data/bikes.csv')"
   ]
  },
  {
   "cell_type": "code",
   "execution_count": 4,
   "metadata": {},
   "outputs": [
    {
     "data": {
      "text/html": [
       "<div>\n",
       "<style>\n",
       "    .dataframe thead tr:only-child th {\n",
       "        text-align: right;\n",
       "    }\n",
       "\n",
       "    .dataframe thead th {\n",
       "        text-align: left;\n",
       "    }\n",
       "\n",
       "    .dataframe tbody tr th {\n",
       "        vertical-align: top;\n",
       "    }\n",
       "</style>\n",
       "<table border=\"1\" class=\"dataframe\">\n",
       "  <thead>\n",
       "    <tr style=\"text-align: right;\">\n",
       "      <th></th>\n",
       "      <th>Date;Berri 1;Br�beuf (donn�es non disponibles);C�te-Sainte-Catherine;Maisonneuve 1;Maisonneuve 2;du Parc;Pierre-Dupuy;Rachel1;St-Urbain (donn�es non disponibles)</th>\n",
       "    </tr>\n",
       "  </thead>\n",
       "  <tbody>\n",
       "    <tr>\n",
       "      <th>0</th>\n",
       "      <td>01/01/2012;35;;0;38;51;26;10;16;</td>\n",
       "    </tr>\n",
       "    <tr>\n",
       "      <th>1</th>\n",
       "      <td>02/01/2012;83;;1;68;153;53;6;43;</td>\n",
       "    </tr>\n",
       "    <tr>\n",
       "      <th>2</th>\n",
       "      <td>03/01/2012;135;;2;104;248;89;3;58;</td>\n",
       "    </tr>\n",
       "  </tbody>\n",
       "</table>\n",
       "</div>"
      ],
      "text/plain": [
       "  Date;Berri 1;Br�beuf (donn�es non disponibles);C�te-Sainte-Catherine;Maisonneuve 1;Maisonneuve 2;du Parc;Pierre-Dupuy;Rachel1;St-Urbain (donn�es non disponibles)\n",
       "0                   01/01/2012;35;;0;38;51;26;10;16;                                                                                                               \n",
       "1                   02/01/2012;83;;1;68;153;53;6;43;                                                                                                               \n",
       "2                 03/01/2012;135;;2;104;248;89;3;58;                                                                                                               "
      ]
     },
     "execution_count": 4,
     "metadata": {},
     "output_type": "execute_result"
    }
   ],
   "source": [
    "# Look at the first 3 rows\n",
    "broken_df[:3]"
   ]
  },
  {
   "cell_type": "markdown",
   "metadata": {
    "collapsed": true
   },
   "source": [
    "You'll notice that this is totally broken! `read_csv` has a bunch of options that will let us fix that, though. Here we'll\n",
    "\n",
    "* change the column separator to a `;`\n",
    "* Set the encoding to `'latin1'` (the default is `'utf8'`)\n",
    "* Parse the dates in the 'Date' column\n",
    "* Tell it that our dates have the date first instead of the month first\n",
    "* Set the index to be the 'Date' column"
   ]
  },
  {
   "cell_type": "code",
   "execution_count": 5,
   "metadata": {},
   "outputs": [
    {
     "data": {
      "text/html": [
       "<div>\n",
       "<style>\n",
       "    .dataframe thead tr:only-child th {\n",
       "        text-align: right;\n",
       "    }\n",
       "\n",
       "    .dataframe thead th {\n",
       "        text-align: left;\n",
       "    }\n",
       "\n",
       "    .dataframe tbody tr th {\n",
       "        vertical-align: top;\n",
       "    }\n",
       "</style>\n",
       "<table border=\"1\" class=\"dataframe\">\n",
       "  <thead>\n",
       "    <tr style=\"text-align: right;\">\n",
       "      <th></th>\n",
       "      <th>Berri 1</th>\n",
       "      <th>Brébeuf (données non disponibles)</th>\n",
       "      <th>Côte-Sainte-Catherine</th>\n",
       "      <th>Maisonneuve 1</th>\n",
       "      <th>Maisonneuve 2</th>\n",
       "      <th>du Parc</th>\n",
       "      <th>Pierre-Dupuy</th>\n",
       "      <th>Rachel1</th>\n",
       "      <th>St-Urbain (données non disponibles)</th>\n",
       "    </tr>\n",
       "    <tr>\n",
       "      <th>Date</th>\n",
       "      <th></th>\n",
       "      <th></th>\n",
       "      <th></th>\n",
       "      <th></th>\n",
       "      <th></th>\n",
       "      <th></th>\n",
       "      <th></th>\n",
       "      <th></th>\n",
       "      <th></th>\n",
       "    </tr>\n",
       "  </thead>\n",
       "  <tbody>\n",
       "    <tr>\n",
       "      <th>2012-01-01</th>\n",
       "      <td>35</td>\n",
       "      <td>NaN</td>\n",
       "      <td>0</td>\n",
       "      <td>38</td>\n",
       "      <td>51</td>\n",
       "      <td>26</td>\n",
       "      <td>10</td>\n",
       "      <td>16</td>\n",
       "      <td>NaN</td>\n",
       "    </tr>\n",
       "    <tr>\n",
       "      <th>2012-01-02</th>\n",
       "      <td>83</td>\n",
       "      <td>NaN</td>\n",
       "      <td>1</td>\n",
       "      <td>68</td>\n",
       "      <td>153</td>\n",
       "      <td>53</td>\n",
       "      <td>6</td>\n",
       "      <td>43</td>\n",
       "      <td>NaN</td>\n",
       "    </tr>\n",
       "    <tr>\n",
       "      <th>2012-01-03</th>\n",
       "      <td>135</td>\n",
       "      <td>NaN</td>\n",
       "      <td>2</td>\n",
       "      <td>104</td>\n",
       "      <td>248</td>\n",
       "      <td>89</td>\n",
       "      <td>3</td>\n",
       "      <td>58</td>\n",
       "      <td>NaN</td>\n",
       "    </tr>\n",
       "  </tbody>\n",
       "</table>\n",
       "</div>"
      ],
      "text/plain": [
       "            Berri 1  Brébeuf (données non disponibles)  Côte-Sainte-Catherine  \\\n",
       "Date                                                                            \n",
       "2012-01-01       35                                NaN                      0   \n",
       "2012-01-02       83                                NaN                      1   \n",
       "2012-01-03      135                                NaN                      2   \n",
       "\n",
       "            Maisonneuve 1  Maisonneuve 2  du Parc  Pierre-Dupuy  Rachel1  \\\n",
       "Date                                                                       \n",
       "2012-01-01             38             51       26            10       16   \n",
       "2012-01-02             68            153       53             6       43   \n",
       "2012-01-03            104            248       89             3       58   \n",
       "\n",
       "            St-Urbain (données non disponibles)  \n",
       "Date                                             \n",
       "2012-01-01                                  NaN  \n",
       "2012-01-02                                  NaN  \n",
       "2012-01-03                                  NaN  "
      ]
     },
     "execution_count": 5,
     "metadata": {},
     "output_type": "execute_result"
    }
   ],
   "source": [
    "fixed_df = pd.read_csv('data/bikes.csv', sep=';', encoding='latin1', parse_dates=['Date'], dayfirst=True, index_col='Date')\n",
    "fixed_df[:3]"
   ]
  },
  {
   "cell_type": "markdown",
   "metadata": {},
   "source": [
    "When you read a CSV, you get a kind of object called a `DataFrame`, which is made up of rows and columns. You get columns out of a DataFrame the same way you get elements out of a dictionary.\n",
    "\n",
    "Here's an example:"
   ]
  },
  {
   "cell_type": "code",
   "execution_count": 6,
   "metadata": {},
   "outputs": [
    {
     "data": {
      "text/plain": [
       "Date\n",
       "2012-01-01      35\n",
       "2012-01-02      83\n",
       "2012-01-03     135\n",
       "2012-01-04     144\n",
       "2012-01-05     197\n",
       "2012-01-06     146\n",
       "2012-01-07      98\n",
       "2012-01-08      95\n",
       "2012-01-09     244\n",
       "2012-01-10     397\n",
       "2012-01-11     273\n",
       "2012-01-12     157\n",
       "2012-01-13      75\n",
       "2012-01-14      32\n",
       "2012-01-15      54\n",
       "2012-01-16     168\n",
       "2012-01-17     155\n",
       "2012-01-18     139\n",
       "2012-01-19     191\n",
       "2012-01-20     161\n",
       "2012-01-21      53\n",
       "2012-01-22      71\n",
       "2012-01-23     210\n",
       "2012-01-24     299\n",
       "2012-01-25     334\n",
       "2012-01-26     306\n",
       "2012-01-27      91\n",
       "2012-01-28      80\n",
       "2012-01-29      87\n",
       "2012-01-30     219\n",
       "              ... \n",
       "2012-10-07    1580\n",
       "2012-10-08    1854\n",
       "2012-10-09    4787\n",
       "2012-10-10    3115\n",
       "2012-10-11    3746\n",
       "2012-10-12    3169\n",
       "2012-10-13    1783\n",
       "2012-10-14     587\n",
       "2012-10-15    3292\n",
       "2012-10-16    3739\n",
       "2012-10-17    4098\n",
       "2012-10-18    4671\n",
       "2012-10-19    1313\n",
       "2012-10-20    2011\n",
       "2012-10-21    1277\n",
       "2012-10-22    3650\n",
       "2012-10-23    4177\n",
       "2012-10-24    3744\n",
       "2012-10-25    3735\n",
       "2012-10-26    4290\n",
       "2012-10-27    1857\n",
       "2012-10-28    1310\n",
       "2012-10-29    2919\n",
       "2012-10-30    2887\n",
       "2012-10-31    2634\n",
       "2012-11-01    2405\n",
       "2012-11-02    1582\n",
       "2012-11-03     844\n",
       "2012-11-04     966\n",
       "2012-11-05    2247\n",
       "Name: Berri 1, Length: 310, dtype: int64"
      ]
     },
     "execution_count": 6,
     "metadata": {},
     "output_type": "execute_result"
    }
   ],
   "source": [
    "fixed_df['Berri 1']"
   ]
  },
  {
   "cell_type": "markdown",
   "metadata": {},
   "source": [
    "Just add `.plot()` to the end to plot! How could it be easier? =)\n",
    "\n",
    "We can see that, unsurprisingly, not many people are biking in January, February, and March, "
   ]
  },
  {
   "cell_type": "code",
   "execution_count": null,
   "metadata": {},
   "outputs": [],
   "source": [
    "fixed_df['Berri 1'].plot()"
   ]
  },
  {
   "cell_type": "markdown",
   "metadata": {},
   "source": [
    "We can also plot all the columns just as easily. We'll make it a little bigger, too.\n",
    "You can see that it's more squished together, but all the bike paths behave basically the same -- if it's a bad day for cyclists, it's a bad day everywhere."
   ]
  },
  {
   "cell_type": "code",
   "execution_count": null,
   "metadata": {},
   "outputs": [],
   "source": [
    "fixed_df.plot(figsize=(15, 10))"
   ]
  }
 ],
 "metadata": {
  "anaconda-cloud": {},
  "kernelspec": {
   "display_name": "Python 2",
   "language": "python",
   "name": "python2"
  },
  "language_info": {
   "codemirror_mode": {
    "name": "ipython",
    "version": 2
   },
   "file_extension": ".py",
   "mimetype": "text/x-python",
   "name": "python",
   "nbconvert_exporter": "python",
   "pygments_lexer": "ipython2",
   "version": "2.7.13"
  }
 },
 "nbformat": 4,
 "nbformat_minor": 1
}
